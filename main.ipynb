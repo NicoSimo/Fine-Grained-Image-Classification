{
 "cells": [
  {
   "cell_type": "code",
   "execution_count": 1,
   "metadata": {},
   "outputs": [],
   "source": [
    "import torch\n",
    "from torch.utils.data import Dataset, DataLoader\n",
    "from torchvision import transforms\n",
    "import skimage.io as io\n",
    "import pandas as pd\n",
    "from Dataset_classes.Flowers.Flowers_Dataset import Flowers102Dataset as Flowers_Dataset\n",
    "import torchvision\n",
    "\n",
    "import os\n",
    "import json\n",
    "import numpy as np\n",
    "\n",
    "import matplotlib.pyplot as plt\n",
    "\n",
    "from clip import clip"
   ]
  },
  {
   "cell_type": "code",
   "execution_count": 2,
   "metadata": {},
   "outputs": [],
   "source": [
    "################################################# Files import  #################################################\n",
    "\n",
    "# Get current directory\n",
    "current_dir = os.path.dirname(os.path.abspath(os.getcwd()))\n",
    "\n",
    "# Get the outer directory where Config.json file is located\n",
    "MLCOMP_dir = os.path.abspath(os.path.join(current_dir)) # os.pardir allows to go one directory back\n",
    "\n",
    "# Path to the config file\n",
    "# Config.json file contains the paths to the input dataset and output dataset directories\n",
    "config_path = os.path.join(MLCOMP_dir, 'Config.json')\n",
    "\n",
    "with open(config_path) as f:\n",
    "    config = json.load(f)\n",
    "\n",
    "# Get the statistics.json file path where the std and mean are stored\n",
    "statistics_path = config['statistics_flowers102']\n",
    "\n",
    "# Open the stats.json file and set the dictionary dataset_stats for normalization\n",
    "with open(statistics_path) as f:\n",
    "    dataset_stats = json.load(f)\n",
    "\n",
    "# Directory containing the images\n",
    "img_dir = config['output_dir_flowers102']\n",
    "\n",
    "# Paths to the labels file\n",
    "labels_file = config['output_labels_flowers102']\n",
    "\n",
    "# Paths to the setid file\n",
    "setid_file = config['output_setid_flowers102']\n",
    "\n",
    "flowers_names_file = config['flowers_name']\n",
    "\n",
    "with open(flowers_names_file) as f:\n",
    "    flowers_names = json.load(f)\n"
   ]
  },
  {
   "cell_type": "code",
   "execution_count": 3,
   "metadata": {},
   "outputs": [],
   "source": [
    "################################################# Dataset preparation  #################################################\n",
    "dataset = Flowers_Dataset(csv_file = labels_file, root_dir= img_dir)\n",
    "train_set, test_set = torch.utils.data.random_split(dataset, [7000,1189])\n",
    "\n",
    "train_loader = DataLoader(dataset=train_set, batch_size=32, shuffle=True)\n",
    "test_loader = DataLoader(dataset=test_set, batch_size=32, shuffle=True)\n",
    "\n",
    "# Testing getitem and viewitem with a random index\n",
    "IDX = 1\n",
    "image, label = dataset.__getitem__(IDX)\n",
    "#print(image, label)\n",
    "#dataset.__viewitem__(index = IDX, mean = dataset_stats[\"mean\"], std = dataset_stats[\"std\"])"
   ]
  },
  {
   "cell_type": "code",
   "execution_count": 4,
   "metadata": {},
   "outputs": [
    {
     "data": {
      "text/plain": [
       "tensor(77)"
      ]
     },
     "execution_count": 4,
     "metadata": {},
     "output_type": "execute_result"
    }
   ],
   "source": [
    "label"
   ]
  },
  {
   "cell_type": "code",
   "execution_count": 5,
   "metadata": {},
   "outputs": [
    {
     "name": "stdout",
     "output_type": "stream",
     "text": [
      "torch.float32\n",
      "torch.int64\n"
     ]
    }
   ],
   "source": [
    "\n",
    "################################################# DataLoader preparation  #################################################\n",
    "\n",
    "def get_data(batch_size = 64, test_batch_size = 256, transform = None):\n",
    "\n",
    "    if not transform:\n",
    "        transform = torchvision.transforms.Compose([torchvision.transforms.ToTensor()])\n",
    "\n",
    "    # Dataset loader\n",
    "    full_training_data = Flowers_Dataset(csv_file = labels_file, root_dir= img_dir, transform = transform)\n",
    "\n",
    "    # Dataset split\n",
    "    num_samples = full_training_data.__len__()\n",
    "    train_size = int(0.6*num_samples)\n",
    "    val_size = int(0.2*num_samples)\n",
    "    test_size = num_samples - train_size - val_size\n",
    "    train_set, val_set, test_set = torch.utils.data.random_split(full_training_data, [train_size, val_size, test_size])\n",
    "\n",
    "    train_loader = DataLoader(dataset=train_set, batch_size=batch_size, shuffle=True, num_workers=num_workers)\n",
    "    val_loader = DataLoader(dataset=val_set, batch_size=batch_size, shuffle=True, num_workers=num_workers)\n",
    "    test_loader = DataLoader(dataset=test_set, batch_size=test_batch_size, shuffle=True, num_workers=num_workers)\n",
    "\n",
    "    return train_loader, val_loader, test_loader\n"
   ]
  },
  {
   "cell_type": "code",
   "execution_count": null,
   "metadata": {},
   "outputs": [],
   "source": [
    "model, preprocess = clip.load(\"ViT-B/32\", jit=False)\n",
    "device = \"cuda\" if torch.cuda.is_available() else \"cpu\"\n",
    "model = model.to(device).eval()"
   ]
  },
  {
   "cell_type": "code",
   "execution_count": null,
   "metadata": {},
   "outputs": [],
   "source": [
    "def test_step_zero_shot_clip(net, data_loader, texts_z, device):\n",
    "    samples = 0.0\n",
    "    cumulative_accuracy = 0.0\n",
    "\n",
    "    net.eval()\n",
    "\n",
    "    with torch.no_grad():\n",
    "        for batch_idx, (inputs, targets) in enumerate(data_loader):\n",
    "            inputs = inputs.to(device)\n",
    "            targets = targets.to(device)\n",
    "\n",
    "            images_z = model.encode_image(inputs).float()\n",
    "            outputs = (100 * images_z @ texts_z.T).softmax(dim=-1)\n",
    "\n",
    "            samples+= inputs.size(0)\n",
    "            _, predicted = outputs.max(1)\n",
    "\n",
    "            cumulative_accuracy += predicted.eq(targets).sum().item()\n",
    "\n",
    "    return cumulative_accuracy / samples * 100"
   ]
  },
  {
   "cell_type": "code",
   "execution_count": 6,
   "metadata": {},
   "outputs": [
    {
     "data": {
      "text/plain": [
       "['RN50',\n",
       " 'RN101',\n",
       " 'RN50x4',\n",
       " 'RN50x16',\n",
       " 'RN50x64',\n",
       " 'ViT-B/32',\n",
       " 'ViT-B/16',\n",
       " 'ViT-L/14',\n",
       " 'ViT-L/14@336px']"
      ]
     },
     "execution_count": 6,
     "metadata": {},
     "output_type": "execute_result"
    }
   ],
   "source": [
    "clip.available_models()"
   ]
  },
  {
   "cell_type": "code",
   "execution_count": null,
   "metadata": {},
   "outputs": [],
   "source": []
  },
  {
   "cell_type": "code",
   "execution_count": 7,
   "metadata": {},
   "outputs": [],
   "source": []
  },
  {
   "cell_type": "code",
   "execution_count": 8,
   "metadata": {},
   "outputs": [
    {
     "name": "stdout",
     "output_type": "stream",
     "text": [
      "Model parameters: 151,277,313\n",
      "Input resolution: 224\n",
      "Context length: 77\n",
      "Vocab size: 49408\n"
     ]
    }
   ],
   "source": [
    "print(\"Model parameters:\", f\"{np.sum([int(np.prod(p.shape)) for p in model.parameters()]):,}\")\n",
    "print(\"Input resolution:\", model.visual.input_resolution)\n",
    "print(\"Context length:\", model.context_length)\n",
    "print(\"Vocab size:\", model.vocab_size)"
   ]
  },
  {
   "cell_type": "code",
   "execution_count": 9,
   "metadata": {},
   "outputs": [
    {
     "data": {
      "text/plain": [
       "Compose(\n",
       "    Resize(size=224, interpolation=bicubic, max_size=None, antialias=True)\n",
       "    CenterCrop(size=(224, 224))\n",
       "    <function _convert_image_to_rgb at 0x293c5cc20>\n",
       "    ToTensor()\n",
       "    Normalize(mean=(0.48145466, 0.4578275, 0.40821073), std=(0.26862954, 0.26130258, 0.27577711))\n",
       ")"
      ]
     },
     "execution_count": 9,
     "metadata": {},
     "output_type": "execute_result"
    }
   ],
   "source": [
    "preprocess"
   ]
  },
  {
   "cell_type": "code",
   "execution_count": 10,
   "metadata": {},
   "outputs": [
    {
     "data": {
      "text/plain": [
       "tensor([[49406, 32634, 10885,   614,   256, 49407,     0,     0,     0,     0,\n",
       "             0,     0,     0,     0,     0,     0,     0,     0,     0,     0,\n",
       "             0,     0,     0,     0,     0,     0,     0,     0,     0,     0,\n",
       "             0,     0,     0,     0,     0,     0,     0,     0,     0,     0,\n",
       "             0,     0,     0,     0,     0,     0,     0,     0,     0,     0,\n",
       "             0,     0,     0,     0,     0,     0,     0,     0,     0,     0,\n",
       "             0,     0,     0,     0,     0,     0,     0,     0,     0,     0,\n",
       "             0,     0,     0,     0,     0,     0,     0]], dtype=torch.int32)"
      ]
     },
     "execution_count": 10,
     "metadata": {},
     "output_type": "execute_result"
    }
   ],
   "source": [
    "clip.tokenize(\"tokenize me!\")"
   ]
  },
  {
   "cell_type": "code",
   "execution_count": 11,
   "metadata": {},
   "outputs": [],
   "source": [
    "from collections import OrderedDict\n",
    "from pathlib import Path\n",
    "\n",
    "import skimage\n",
    "import IPython.display\n",
    "import matplotlib.pyplot as plt\n",
    "from PIL import Image\n",
    "\n",
    "\n",
    "%matplotlib inline\n",
    "%config InlineBackend.figure_format = 'retina'"
   ]
  },
  {
   "cell_type": "code",
   "execution_count": 12,
   "metadata": {},
   "outputs": [],
   "source": [
    "images = []\n",
    "labels = set()\n",
    "\n",
    "for i in range(len(dataset)):\n",
    "    image, label = dataset.__getitem__(i)\n",
    "    image = torch.tensor(image)\n",
    "    images.append(image)\n",
    "    labels.add(flowers_names[str(int(label))])  # Assuming class names are stored as strings in the json"
   ]
  },
  {
   "cell_type": "code",
   "execution_count": 13,
   "metadata": {},
   "outputs": [],
   "source": [
    "images_tensor = torch.stack(images)"
   ]
  },
  {
   "cell_type": "code",
   "execution_count": 14,
   "metadata": {},
   "outputs": [
    {
     "data": {
      "text/plain": [
       "torch.Size([8189, 500, 500, 3])"
      ]
     },
     "execution_count": 14,
     "metadata": {},
     "output_type": "execute_result"
    }
   ],
   "source": [
    "images_tensor.shape"
   ]
  },
  {
   "cell_type": "code",
   "execution_count": 15,
   "metadata": {},
   "outputs": [
    {
     "data": {
      "text/plain": [
       "torch.Size([8189, 3, 500, 500])"
      ]
     },
     "execution_count": 15,
     "metadata": {},
     "output_type": "execute_result"
    }
   ],
   "source": [
    "images_tensor = images_tensor.permute(0, 3, 1, 2)\n",
    "images_tensor.shape\n"
   ]
  },
  {
   "cell_type": "code",
   "execution_count": 16,
   "metadata": {},
   "outputs": [],
   "source": [
    "def encode_data(images: list[torch.Tensor], texts: list[str], device: str, model):\n",
    "    text_tokens = clip.tokenize([\"A photo of \" + desc for desc in texts]).to(device)\n",
    "\n",
    "    with torch.no_grad():\n",
    "        images_z = model.encode_image(images).float()\n",
    "        texts_z = model.encode_text(text_tokens).float()\n",
    "\n",
    "    return images_z, texts_z"
   ]
  },
  {
   "cell_type": "code",
   "execution_count": 17,
   "metadata": {},
   "outputs": [
    {
     "ename": "",
     "evalue": "",
     "output_type": "error",
     "traceback": [
      "\u001b[1;31mThe Kernel crashed while executing code in the current cell or a previous cell. \n",
      "\u001b[1;31mPlease review the code in the cell(s) to identify a possible cause of the failure. \n",
      "\u001b[1;31mClick <a href='https://aka.ms/vscodeJupyterKernelCrash'>here</a> for more info. \n",
      "\u001b[1;31mView Jupyter <a href='command:jupyter.viewOutput'>log</a> for further details."
     ]
    }
   ],
   "source": [
    "def cosine_similarity(images_z: torch.Tensor, texts_z: torch.Tensor):\n",
    "    images_z /= images_z.norm(dim=-1, keepdim=True)\n",
    "    texts_z /= texts_z.norm(dim=-1, keepdim=True)\n",
    "\n",
    "    similarity = (texts_z @ images_z.T)\n",
    "\n",
    "    return similarity.cpu()\n",
    "\n",
    "images_z, texts_z = encode_data(images_tensor, labels, device, model)\n",
    "similarity = cosine_similarity(images_z, texts_z)\n",
    "print(similarity)\n"
   ]
  }
 ],
 "metadata": {
  "kernelspec": {
   "display_name": "base",
   "language": "python",
   "name": "python3"
  },
  "language_info": {
   "codemirror_mode": {
    "name": "ipython",
    "version": 3
   },
   "file_extension": ".py",
   "mimetype": "text/x-python",
   "name": "python",
   "nbconvert_exporter": "python",
   "pygments_lexer": "ipython3",
   "version": "3.11.7"
  }
 },
 "nbformat": 4,
 "nbformat_minor": 2
}
