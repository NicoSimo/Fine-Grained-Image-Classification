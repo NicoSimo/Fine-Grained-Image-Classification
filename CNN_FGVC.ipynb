{
 "cells": [
  {
   "cell_type": "code",
   "execution_count": 12,
   "metadata": {},
   "outputs": [],
   "source": [
    "import torch\n",
    "import torchvision\n",
    "from torchvision import datasets, transforms\n",
    "import torch.nn as nn\n",
    "import torch.nn.functional as F\n",
    "import torch.optim as optim\n",
    "import wandb\n",
    "from pathlib import Path"
   ]
  },
  {
   "cell_type": "code",
   "execution_count": 16,
   "metadata": {},
   "outputs": [],
   "source": [
    "#wandb.login()\n",
    "import numpy as np\n",
    "import os\n",
    "import Cropper\n",
    "\n",
    "# Get the current directory\n",
    "notebook_dir = os.path.abspath(os.path.dirname(__file__) if \"__file__\" in locals() else \".\")\n",
    "\n",
    "# Move one level up to reach the parent directory (--> cd ..)\n",
    "parent_dir = os.path.abspath(os.path.join(notebook_dir, '..'))\n",
    "\n",
    "# Define the dataset directory\n",
    "dataset_dir = os.path.join(parent_dir,'fgvc-aircraft-2013b/data/images')\n",
    "output_dir = os.path.join(parent_dir, 'fgvc-aircraft-2013b/data/images/Test_resize')\n",
    "avg_height, avg_width = Cropper.images_sizes(dataset_dir)"
   ]
  },
  {
   "cell_type": "code",
   "execution_count": null,
   "metadata": {},
   "outputs": [],
   "source": [
    "def get_data(batch_size, test_batch_size = 256, num_workers = 4, mean = None, std = None):\n",
    "    \n",
    "    # Compute Mean and Standatd Deviation of the dataset if not provided\n",
    "    if mean == None or std == None:\n",
    "        transform = transforms.Compose([\n",
    "            transforms.Resize((224, 224)),\n",
    "            transforms.ToTensor()])\n",
    "    \n",
    "        full_train_data = datasets.FGVCAircraft('./data', split = 'trainval', download=True, transform = transform)\n",
    "\n",
    "        images = torch.stack([image for image, _ in full_train_data], dim = 3)\n",
    "        mean = torch.mean(images)\n",
    "        std = torch.std(images)\n",
    "\n",
    "    else:\n",
    "        full_train_data = datasets.FGVCAircraft('./data', split = 'trainval', download=True, transform = transform)\n",
    "\n",
    "    transform = transforms.Compose([transforms.ToTensor(), transforms.Normalize(mean=[mean], std=[std])])\n",
    "\n",
    "    test_data = datasets.FGVCAircraft('./data', split = 'test', download=True, transform = transform)\n",
    "\n",
    "\n",
    "    num_samples = len(full_train_data)\n",
    "    train_samples = int(num_samples * 0.7 + 1)\n",
    "    validation_samples = num_samples - train_samples\n",
    "    train_data, validation_data = torch.utils.data.random_split(full_train_data, [train_samples, validation_samples])\n",
    "\n",
    "    train_loader = torch.utils.data.DataLoader(train_data, batch_size, shuffle = True, num_workers = num_workers)\n",
    "    val_loader = torch.utils.data.DataLoader(validation_data, test_batch_size, shuffle = False, num_workers = num_workers)\n",
    "    test_loader = torch.utils.data.DataLoader(test_data, test_batch_size, shuffle = False, num_workers = num_workers)\n",
    "\n",
    "    return train_loader, val_loader, test_loader\n",
    "\n",
    "train_loader, val_loader, test_loader = get_data(64)"
   ]
  },
  {
   "cell_type": "code",
   "execution_count": null,
   "metadata": {},
   "outputs": [],
   "source": [
    "class CNN(nn.Module):\n",
    "    def __init__(self):\n",
    "        super(CNN, self).__init__()\n",
    "        self.conv1 = nn.Conv2d(3, 6, 5)\n",
    "        self.pool1 = nn.MaxPool2d(2, 2)\n",
    "        self.conv2 = nn.Conv2d(6, 16, 5)\n",
    "        self.pool2 = nn.MaxPool2d(2, 2)\n",
    "        self.pool3 = nn.Conv2d(16, 32, 5)\n",
    "\n"
   ]
  }
 ],
 "metadata": {
  "kernelspec": {
   "display_name": "base",
   "language": "python",
   "name": "python3"
  },
  "language_info": {
   "codemirror_mode": {
    "name": "ipython",
    "version": 3
   },
   "file_extension": ".py",
   "mimetype": "text/x-python",
   "name": "python",
   "nbconvert_exporter": "python",
   "pygments_lexer": "ipython3",
   "version": "3.11.7"
  }
 },
 "nbformat": 4,
 "nbformat_minor": 2
}
